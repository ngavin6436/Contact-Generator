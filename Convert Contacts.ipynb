{
 "cells": [
  {
   "cell_type": "code",
   "execution_count": 8,
   "id": "92bd937a",
   "metadata": {},
   "outputs": [],
   "source": [
    "import pandas as pd"
   ]
  },
  {
   "cell_type": "code",
   "execution_count": 9,
   "id": "266a2f4a",
   "metadata": {},
   "outputs": [],
   "source": [
    "def make_vcard(\n",
    "        first_name,\n",
    "        last_name='',\n",
    "        phone=None,\n",
    "        whatsapp=None,\n",
    "        email=None,\n",
    "        stanford_email=None,\n",
    "        company='GSB',\n",
    "    ):\n",
    "    vcf_file = f'{first_name.lower()}_{last_name.lower()}.vcf'\n",
    "    vcard = [\n",
    "        'BEGIN:VCARD',\n",
    "        'VERSION:3.0',\n",
    "        f'N:{last_name};{first_name}',\n",
    "        f'FN:{first_name} {last_name}',\n",
    "        f'ORG:{company}'\n",
    "    ]\n",
    "    \n",
    "    vcard += [\n",
    "        f'EMAIL;type=INTERNET;type=HOME;type=pref:{email}'\n",
    "    ] if email else []\n",
    "    \n",
    "    vcard += [\n",
    "            f'item1.EMAIL;type=INTERNET:{stanford_email}',\n",
    "            f'item1.X-ABLabel:Stanford',\n",
    "    ] if stanford_email else []\n",
    "    \n",
    "    vcard += [\n",
    "        f'TEL;type=CELL;type=VOICE;type=pref:{phone}'\n",
    "    ] if phone else []\n",
    "    \n",
    "    vcard += [\n",
    "            f'item2.TEL:{whatsapp}',\n",
    "            f'item2.X-ABLabel:WhatsApp',\n",
    "    ] if whatsapp else []\n",
    "            \n",
    "    vcard += [\n",
    "        'REV:1',\n",
    "        'END:VCARD'\n",
    "    ]\n",
    "\n",
    "    write_vcard(vcf_file, vcard)\n",
    "    return f'created {vcf_file}'\n",
    "#     return vcard\n",
    "\n",
    "def write_vcard(vcf_file, vcard):\n",
    "    with open(f'./Contacts/{vcf_file}', 'w') as f:\n",
    "        f.writelines([l + '\\n' for l in vcard])\n",
    "\n",
    "def parse_name(name, is_first=True):\n",
    "    names = name.split(\" \")\n",
    "    first = names[0]\n",
    "    last = ' '.join(names[1:])\n",
    "    return first if is_first else last"
   ]
  },
  {
   "cell_type": "code",
   "execution_count": 10,
   "id": "a5bca89e",
   "metadata": {},
   "outputs": [],
   "source": [
    "df = pd.read_excel('Contact Info - GSB Class of 2023.xlsx')\n",
    "df = df.where(pd.notnull(df), None)\n",
    "\n",
    "df['first_name'] = df.apply(lambda row : parse_name(row['Full Name']), axis = 1)\n",
    "df['last_name'] = df.apply(lambda row : parse_name(row['Full Name'], False), axis = 1)"
   ]
  },
  {
   "cell_type": "code",
   "execution_count": 11,
   "id": "a6a984c8",
   "metadata": {},
   "outputs": [
    {
     "data": {
      "text/plain": [
       "0            created nick_gavin.vcf\n",
       "1         created keeton_thayer.vcf\n",
       "2                created faraz_.vcf\n",
       "3       created sulekha_ramayya.vcf\n",
       "4        created maria_verbaite.vcf\n",
       "                   ...             \n",
       "254       created cedric_laohoo.vcf\n",
       "255     created amanda_irizarry.vcf\n",
       "256           created james_yan.vcf\n",
       "257    created antonia_woodford.vcf\n",
       "258          created camila_rey.vcf\n",
       "Length: 259, dtype: object"
      ]
     },
     "execution_count": 11,
     "metadata": {},
     "output_type": "execute_result"
    }
   ],
   "source": [
    "df.apply(\n",
    "    lambda row : \n",
    "    make_vcard(\n",
    "        row['first_name'], \n",
    "        row['last_name'],\n",
    "        row['Phone'], \n",
    "        row['Phone (Whatsapp)'], \n",
    "        row['Email 1 (stanford)'], \n",
    "        row['Email 2 (other)']), \n",
    "    axis = 1)"
   ]
  },
  {
   "cell_type": "code",
   "execution_count": null,
   "id": "143c15a1",
   "metadata": {},
   "outputs": [],
   "source": []
  },
  {
   "cell_type": "code",
   "execution_count": null,
   "id": "2c8280cc",
   "metadata": {},
   "outputs": [],
   "source": []
  }
 ],
 "metadata": {
  "kernelspec": {
   "display_name": "Python 3",
   "language": "python",
   "name": "python3"
  },
  "language_info": {
   "codemirror_mode": {
    "name": "ipython",
    "version": 3
   },
   "file_extension": ".py",
   "mimetype": "text/x-python",
   "name": "python",
   "nbconvert_exporter": "python",
   "pygments_lexer": "ipython3",
   "version": "3.8.8"
  }
 },
 "nbformat": 4,
 "nbformat_minor": 5
}
